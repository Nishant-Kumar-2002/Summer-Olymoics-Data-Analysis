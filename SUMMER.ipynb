{
 "cells": [
  {
   "cell_type": "markdown",
   "id": "95bdd057",
   "metadata": {},
   "source": [
    "# Summer Olympics Data Analysis Assignment"
   ]
  },
  {
   "cell_type": "markdown",
   "id": "96702896",
   "metadata": {},
   "source": [
    "### 1. In how many cities Summer Olympics is held so far?"
   ]
  },
  {
   "cell_type": "code",
   "execution_count": 1,
   "id": "0b435a74",
   "metadata": {},
   "outputs": [],
   "source": [
    "import numpy as np\n",
    "import pandas as pd"
   ]
  },
  {
   "cell_type": "code",
   "execution_count": 2,
   "id": "8202c9df",
   "metadata": {},
   "outputs": [],
   "source": [
    "df = pd.read_csv('summer.csv')\n"
   ]
  },
  {
   "cell_type": "code",
   "execution_count": 3,
   "id": "58d5f196",
   "metadata": {},
   "outputs": [
    {
     "name": "stdout",
     "output_type": "stream",
     "text": [
      "Total Cities :  22\n"
     ]
    }
   ],
   "source": [
    "count = 0\n",
    "for i in df['City'].unique():\n",
    "    count += 1\n",
    "print(\"Total Cities : \",count)    "
   ]
  },
  {
   "cell_type": "markdown",
   "id": "d007339f",
   "metadata": {},
   "source": [
    "### 2. Which sport is having most number of Gold Medals so far? (Top 5)"
   ]
  },
  {
   "cell_type": "code",
   "execution_count": 4,
   "id": "7283a7fb",
   "metadata": {},
   "outputs": [],
   "source": [
    "data = df.drop(['Year','City','Discipline','Athlete','Country','Gender','Event'],axis = 1)"
   ]
  },
  {
   "cell_type": "code",
   "execution_count": 5,
   "id": "71485917",
   "metadata": {},
   "outputs": [],
   "source": [
    "data = data.values.tolist()"
   ]
  },
  {
   "cell_type": "code",
   "execution_count": 6,
   "id": "33f50291",
   "metadata": {},
   "outputs": [],
   "source": [
    "count = 0\n",
    "med = []\n",
    "for i in df['Sport'].unique():\n",
    "    for j in range(len(data)):\n",
    "        if(data[j][0] == i and data[j][1] == 'Gold'):\n",
    "            count += 1\n",
    "    med.append([i,count])\n",
    "    count=0\n",
    "            "
   ]
  },
  {
   "cell_type": "code",
   "execution_count": 7,
   "id": "256f3204",
   "metadata": {},
   "outputs": [
    {
     "data": {
      "text/html": [
       "<div>\n",
       "<style scoped>\n",
       "    .dataframe tbody tr th:only-of-type {\n",
       "        vertical-align: middle;\n",
       "    }\n",
       "\n",
       "    .dataframe tbody tr th {\n",
       "        vertical-align: top;\n",
       "    }\n",
       "\n",
       "    .dataframe thead th {\n",
       "        text-align: right;\n",
       "    }\n",
       "</style>\n",
       "<table border=\"1\" class=\"dataframe\">\n",
       "  <thead>\n",
       "    <tr style=\"text-align: right;\">\n",
       "      <th></th>\n",
       "      <th>Sport</th>\n",
       "      <th>Gold_fre</th>\n",
       "    </tr>\n",
       "  </thead>\n",
       "  <tbody>\n",
       "    <tr>\n",
       "      <th>0</th>\n",
       "      <td>Aquatics</td>\n",
       "      <td>1421</td>\n",
       "    </tr>\n",
       "    <tr>\n",
       "      <th>1</th>\n",
       "      <td>Athletics</td>\n",
       "      <td>1215</td>\n",
       "    </tr>\n",
       "    <tr>\n",
       "      <th>17</th>\n",
       "      <td>Rowing</td>\n",
       "      <td>890</td>\n",
       "    </tr>\n",
       "    <tr>\n",
       "      <th>4</th>\n",
       "      <td>Gymnastics</td>\n",
       "      <td>820</td>\n",
       "    </tr>\n",
       "    <tr>\n",
       "      <th>3</th>\n",
       "      <td>Fencing</td>\n",
       "      <td>552</td>\n",
       "    </tr>\n",
       "  </tbody>\n",
       "</table>\n",
       "</div>"
      ],
      "text/plain": [
       "         Sport  Gold_fre\n",
       "0     Aquatics      1421\n",
       "1    Athletics      1215\n",
       "17      Rowing       890\n",
       "4   Gymnastics       820\n",
       "3      Fencing       552"
      ]
     },
     "execution_count": 7,
     "metadata": {},
     "output_type": "execute_result"
    }
   ],
   "source": [
    "pd.DataFrame(med,columns=['Sport','Gold_fre']).sort_values(by = 'Gold_fre',ascending = False).head()"
   ]
  },
  {
   "cell_type": "code",
   "execution_count": 8,
   "id": "9e4fd6a5",
   "metadata": {},
   "outputs": [
    {
     "data": {
      "text/plain": [
       "<AxesSubplot:xlabel='Sport'>"
      ]
     },
     "execution_count": 8,
     "metadata": {},
     "output_type": "execute_result"
    },
    {
     "data": {
      "image/png": "[encoded data removed]",
      "text/plain": [
       "<Figure size 720x360 with 1 Axes>"
      ]
     },
     "metadata": {
      "needs_background": "light"
     },
     "output_type": "display_data"
    }
   ],
   "source": [
    "pd.DataFrame(med,columns=['Sport','Gold_fre']).sort_values(by = 'Gold_fre',ascending = False).head().plot(x='Sport',y='Gold_fre',kind = 'bar',figsize = (10,5))"
   ]
  },
  {
   "cell_type": "markdown",
   "id": "f8f5df77",
   "metadata": {},
   "source": [
    "### 3. Which sport is having most number of medals so far? (Top 5)"
   ]
  },
  {
   "cell_type": "code",
   "execution_count": 9,
   "id": "f67de6d0",
   "metadata": {},
   "outputs": [],
   "source": [
    "data1 =[]\n",
    "\n",
    "for sport in df['Sport'].unique():\n",
    "    data1.append([sport , len(df[df['Sport']  == sport])])\n",
    " "
   ]
  },
  {
   "cell_type": "code",
   "execution_count": 10,
   "id": "2c138b31",
   "metadata": {},
   "outputs": [
    {
     "data": {
      "text/plain": [
       "<AxesSubplot:xlabel='Sport'>"
      ]
     },
     "execution_count": 10,
     "metadata": {},
     "output_type": "execute_result"
    },
    {
     "data": {
      "image/png": "[encoded data removed]",
      "text/plain": [
       "<Figure size 360x360 with 1 Axes>"
      ]
     },
     "metadata": {
      "needs_background": "light"
     },
     "output_type": "display_data"
    }
   ],
   "source": [
    "pd.DataFrame(data1,columns =['Sport','Medals']).sort_values(by = 'Medals',ascending = False).head().plot(x='Sport',y='Medals',kind='bar',figsize=(5,5))"
   ]
  },
  {
   "cell_type": "markdown",
   "id": "de7207da",
   "metadata": {},
   "source": [
    "### 4. Which player has won most number of medals? (Top 5) "
   ]
  },
  {
   "cell_type": "code",
   "execution_count": 11,
   "id": "e71bc1d6",
   "metadata": {},
   "outputs": [],
   "source": [
    "data2 = []\n",
    "for player in df['Athlete'].unique():\n",
    "    data2.append([player,len(df[df['Athlete'] == player])])\n"
   ]
  },
  {
   "cell_type": "code",
   "execution_count": 12,
   "id": "3df3a0ac",
   "metadata": {},
   "outputs": [
    {
     "data": {
      "text/plain": [
       "<AxesSubplot:xlabel='player'>"
      ]
     },
     "execution_count": 12,
     "metadata": {},
     "output_type": "execute_result"
    },
    {
     "data": {
      "image/png": "[encoded data removed]",
      "text/plain": [
       "<Figure size 360x360 with 1 Axes>"
      ]
     },
     "metadata": {
      "needs_background": "light"
     },
     "output_type": "display_data"
    }
   ],
   "source": [
    "pd.DataFrame(data2,columns = ['player','medals']).sort_values(by = 'medals',ascending = False).head().plot(x='player',y='medals',kind='bar',figsize=(5,5))    "
   ]
  },
  {
   "cell_type": "markdown",
   "id": "fd9ec06e",
   "metadata": {},
   "source": [
    "### 5. Which player has won most number Gold Medals of medals? (Top 5) "
   ]
  },
  {
   "cell_type": "code",
   "execution_count": 13,
   "id": "5b241200",
   "metadata": {},
   "outputs": [],
   "source": [
    "data3 = df.drop(['Year','City','Sport','Discipline','Country','Gender','Event'],axis = 1)\n",
    "data3 = data3.values.tolist()"
   ]
  },
  {
   "cell_type": "code",
   "execution_count": 14,
   "id": "b47f721f",
   "metadata": {},
   "outputs": [],
   "source": [
    "count = 0\n",
    "gldmed = []\n",
    "for i in df['Athlete'].unique():\n",
    "    for j in range(len(data3)):\n",
    "        if(data3[j][0] == i and data3[j][1] == 'Gold'):\n",
    "            count += 1\n",
    "    gldmed.append([i,count])\n",
    "    count=0"
   ]
  },
  {
   "cell_type": "code",
   "execution_count": 15,
   "id": "bbe34f07",
   "metadata": {},
   "outputs": [
    {
     "data": {
      "text/plain": [
       "<AxesSubplot:xlabel='Player'>"
      ]
     },
     "execution_count": 15,
     "metadata": {},
     "output_type": "execute_result"
    },
    {
     "data": {
      "image/png": "[encoded data removed]",
      "text/plain": [
       "<Figure size 360x360 with 1 Axes>"
      ]
     },
     "metadata": {
      "needs_background": "light"
     },
     "output_type": "display_data"
    }
   ],
   "source": [
    "pd.DataFrame(gldmed,columns=['Player','Gold_med']).sort_values(by = 'Gold_med',ascending = False).head().plot(x='Player',y='Gold_med',kind = 'bar',figsize = (5,5))"
   ]
  },
  {
   "cell_type": "markdown",
   "id": "13efb83c",
   "metadata": {},
   "source": [
    "### 6. In which year India won first Gold Medal in Summer Olympics? "
   ]
  },
  {
   "cell_type": "code",
   "execution_count": 16,
   "id": "d91ab637",
   "metadata": {},
   "outputs": [],
   "source": [
    "data4 = df[df['Country']=='IND'].sort_values(by = 'Year',ascending=True)   \n",
    "data4 = data4.drop(['City','Sport','Discipline','Athlete','Gender','Country','Event'],axis = 1)\n"
   ]
  },
  {
   "cell_type": "code",
   "execution_count": 17,
   "id": "d2a8a562",
   "metadata": {},
   "outputs": [],
   "source": [
    "data4 = data4.values.tolist()"
   ]
  },
  {
   "cell_type": "code",
   "execution_count": 18,
   "id": "a14a8f12",
   "metadata": {},
   "outputs": [
    {
     "name": "stdout",
     "output_type": "stream",
     "text": [
      "1928\n"
     ]
    }
   ],
   "source": [
    "year = 0\n",
    "for i in range(len(data4)):\n",
    "    if(data4[i][1] == 'Gold'):\n",
    "        year = data4[i][0]\n",
    "        break\n",
    "print(year)        "
   ]
  },
  {
   "cell_type": "markdown",
   "id": "70f9ad3e",
   "metadata": {},
   "source": [
    "### 7. Which event is most popular in terms on number of players? (Top 5)"
   ]
  },
  {
   "cell_type": "code",
   "execution_count": 19,
   "id": "ead3f7d5",
   "metadata": {},
   "outputs": [],
   "source": [
    "data5 = []\n",
    "for event in df['Event'].unique():\n",
    "    data5.append([event,len(df[df['Event'] == event])])\n"
   ]
  },
  {
   "cell_type": "code",
   "execution_count": 20,
   "id": "17e18e02",
   "metadata": {},
   "outputs": [
    {
     "data": {
      "text/plain": [
       "<AxesSubplot:xlabel='Event'>"
      ]
     },
     "execution_count": 20,
     "metadata": {},
     "output_type": "execute_result"
    },
    {
     "data": {
      "image/png": "[encoded data removed]",
      "text/plain": [
       "<Figure size 360x360 with 1 Axes>"
      ]
     },
     "metadata": {
      "needs_background": "light"
     },
     "output_type": "display_data"
    }
   ],
   "source": [
    "pd.DataFrame(data5,columns = ['Event','plyr_fre']).sort_values(by = 'plyr_fre',ascending = False).head().plot(x='Event',y='plyr_fre',kind='bar',figsize=(5,5))    "
   ]
  },
  {
   "cell_type": "markdown",
   "id": "38fbf54e",
   "metadata": {},
   "source": [
    "### 8. Which sport is having most female Gold Medalists? (Top 5)"
   ]
  },
  {
   "cell_type": "code",
   "execution_count": 21,
   "id": "acbdfdca",
   "metadata": {},
   "outputs": [],
   "source": [
    "data6 = df.drop(['Year','City','Discipline','Athlete','Country','Event'],axis = 1)\n"
   ]
  },
  {
   "cell_type": "code",
   "execution_count": 22,
   "id": "28953ed6",
   "metadata": {},
   "outputs": [],
   "source": [
    "data6 = data6[data6['Gender'] == 'Women']"
   ]
  },
  {
   "cell_type": "code",
   "execution_count": 23,
   "id": "65c19d63",
   "metadata": {},
   "outputs": [],
   "source": [
    "data6 = data6.drop(['Gender'],axis=1)\n"
   ]
  },
  {
   "cell_type": "code",
   "execution_count": 24,
   "id": "7272c3d8",
   "metadata": {},
   "outputs": [],
   "source": [
    "wom_gold = []\n",
    "count = 0\n",
    "da_lst = data6.values.tolist()\n",
    "for sport in data6['Sport'].unique():\n",
    "    for i in range(len(data6)):\n",
    "        if(da_lst[i][1] == 'Gold' and da_lst[i][0] == sport):\n",
    "            count += 1\n",
    "    wom_gold.append([sport,count])\n",
    "    count = 0\n",
    "        "
   ]
  },
  {
   "cell_type": "code",
   "execution_count": 25,
   "id": "6d9590c8",
   "metadata": {},
   "outputs": [
    {
     "data": {
      "text/plain": [
       "<AxesSubplot:xlabel='Sport'>"
      ]
     },
     "execution_count": 25,
     "metadata": {},
     "output_type": "execute_result"
    },
    {
     "data": {
      "image/png": "[encoded data removed]",
      "text/plain": [
       "<Figure size 360x360 with 1 Axes>"
      ]
     },
     "metadata": {
      "needs_background": "light"
     },
     "output_type": "display_data"
    }
   ],
   "source": [
    "pd.DataFrame(wom_gold,columns = ['Sport','Gld_med_wom']).sort_values(by = 'Gld_med_wom',ascending = False).head().plot(x='Sport',y='Gld_med_wom',kind='bar',figsize=(5,5))    "
   ]
  },
  {
   "cell_type": "code",
   "execution_count": null,
   "id": "d2984c19",
   "metadata": {},
   "outputs": [],
   "source": []
  },
  {
   "cell_type": "code",
   "execution_count": null,
   "id": "b12237fe",
   "metadata": {},
   "outputs": [],
   "source": []
  }
 ],
 "metadata": {
  "kernelspec": {
   "display_name": "Python 3",
   "language": "python",
   "name": "python3"
  },
  "language_info": {
   "codemirror_mode": {
    "name": "ipython",
    "version": 3
   },
   "file_extension": ".py",
   "mimetype": "text/x-python",
   "name": "python",
   "nbconvert_exporter": "python",
   "pygments_lexer": "ipython3",
   "version": "3.8.8"
  }
 },
 "nbformat": 4,
 "nbformat_minor": 5
}
